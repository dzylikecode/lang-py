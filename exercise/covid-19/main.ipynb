{
 "cells": [
  {
   "cell_type": "code",
   "execution_count": 15,
   "metadata": {},
   "outputs": [],
   "source": [
    "import numpy as np\n",
    "import matplotlib.pyplot as plt"
   ]
  },
  {
   "cell_type": "markdown",
   "metadata": {},
   "source": [
    "## utils"
   ]
  },
  {
   "cell_type": "code",
   "execution_count": 16,
   "metadata": {},
   "outputs": [],
   "source": [
    "\"\"\"获取数据\"\"\"\n",
    "\n",
    "with open(\"assets/day_wise.csv\", \"r\", encoding=\"utf-8\") as f:\n",
    "    data = f.readlines()\n",
    "\n",
    "covid = {\n",
    "    \"date\": [],\n",
    "    \"data\": [],\n",
    "    \"header\": [h for h in data[0].strip().split(\",\")[1:]]\n",
    "}\n",
    "for row in data[1:]:\n",
    "    split_row = row.strip().split(\",\")\n",
    "    covid[\"date\"].append(split_row[0])\n",
    "    covid[\"data\"].append([float(n) for n in split_row[1:]])\n",
    "data = np.array(covid[\"data\"])"
   ]
  },
  {
   "cell_type": "code",
   "execution_count": 17,
   "metadata": {},
   "outputs": [],
   "source": [
    "def get_data_by_date(date):\n",
    "    \"\"\"\n",
    "    打印一行数据\n",
    "    number[] -> dict\n",
    "    \"\"\"\n",
    "    data_obj = {}\n",
    "    date_idx = covid[\"date\"].index(date)\n",
    "    for header, number in zip(covid[\"header\"], covid[\"data\"][date_idx]):\n",
    "        data_obj[header] = number\n",
    "    return data_obj"
   ]
  },
  {
   "cell_type": "code",
   "execution_count": 18,
   "metadata": {},
   "outputs": [],
   "source": [
    "def draw_line(x):\n",
    "    plt.plot(x)\n",
    "    plt.show()"
   ]
  },
  {
   "cell_type": "markdown",
   "metadata": {},
   "source": [
    "## main\n",
    "\n",
    "### data\n",
    "\n",
    "![](assets/2022-11-27-11-36-48.png)\n",
    "\n",
    "### task\n",
    "\n",
    "- 获取 2020 年 2 月 3 日的所有数据\n",
    "- 2020 年 1 月 24 日之前的累积确诊病例有多少个？\n",
    "- 2020 年 7 月 23 日的新增死亡数是多少？\n",
    "- 从 1 月 25 日到 7 月 22 日，一共增长了多少确诊病例？\n",
    "- 每天新增确诊数和新恢复数的比例？平均比例，标准差各是多少？\n",
    "- 画图展示新增确诊的变化曲线\n",
    "- 画图展示死亡率的变化曲线"
   ]
  },
  {
   "cell_type": "markdown",
   "metadata": {},
   "source": [
    "### 某日所有数据"
   ]
  },
  {
   "cell_type": "code",
   "execution_count": 19,
   "metadata": {},
   "outputs": [
    {
     "name": "stdout",
     "output_type": "stream",
     "text": [
      "{'Confirmed': 19887.0, 'Deaths': 426.0, 'Recovered': 604.0, 'Active': 18857.0, 'New cases': 3100.0, 'New deaths': 64.0, 'New recovered': 145.0, 'Deaths / 100 Cases': 2.14, 'Recovered / 100 Cases': 3.04, 'Deaths / 100 Recovered': 70.53, 'No. of countries': 25.0}\n"
     ]
    }
   ],
   "source": [
    "\"\"\"获取 2020 年 2 月 3 日的所有数据\"\"\"\n",
    "print(get_data_by_date(\"2020-02-03\"))"
   ]
  },
  {
   "cell_type": "markdown",
   "metadata": {},
   "source": [
    "### 累积确诊"
   ]
  },
  {
   "cell_type": "code",
   "execution_count": 20,
   "metadata": {},
   "outputs": [
    {
     "name": "stdout",
     "output_type": "stream",
     "text": [
      "941.0\n"
     ]
    }
   ],
   "source": [
    "\"\"\"2020 年 1 月 24 日之前的累积确诊病例有多少个？\"\"\"\n",
    "print(get_data_by_date(\"2020-01-24\")[\"Confirmed\"])"
   ]
  },
  {
   "cell_type": "markdown",
   "metadata": {},
   "source": [
    "### 新增死亡"
   ]
  },
  {
   "cell_type": "code",
   "execution_count": 21,
   "metadata": {},
   "outputs": [
    {
     "name": "stdout",
     "output_type": "stream",
     "text": [
      "9966.0\n"
     ]
    }
   ],
   "source": [
    "\"\"\"2020 年 7 月 23 日的新增死亡数是多少？\"\"\"\n",
    "print(get_data_by_date(\"2020-07-23\")[\"New deaths\"])"
   ]
  },
  {
   "cell_type": "markdown",
   "metadata": {},
   "source": [
    "### 总增长数"
   ]
  },
  {
   "cell_type": "code",
   "execution_count": 22,
   "metadata": {},
   "outputs": [
    {
     "name": "stdout",
     "output_type": "stream",
     "text": [
      "15226291.0\n"
     ]
    }
   ],
   "source": [
    "\"\"\"从 1 月 25 日到 7 月 22 日，一共增长了多少确诊病例？\"\"\"\n",
    "start_date = \"2020-01-25\"\n",
    "end_date = \"2020-07-22\"\n",
    "start_confirmed = get_data_by_date(start_date)[\"Confirmed\"]\n",
    "end_confirmed = get_data_by_date(end_date)[\"Confirmed\"]\n",
    "print(end_confirmed - start_confirmed)"
   ]
  },
  {
   "cell_type": "code",
   "execution_count": 23,
   "metadata": {},
   "outputs": [
    {
     "name": "stdout",
     "output_type": "stream",
     "text": [
      "共新增： 15247309.0\n"
     ]
    }
   ],
   "source": [
    "\"\"\"从 1 月 25 日到 7 月 22 日，一共增长了多少确诊病例？\"\"\"\n",
    "start_idx = covid[\"date\"].index(\"2020-01-25\")\n",
    "end_idx = covid[\"date\"].index(\"2020-07-22\")\n",
    "new_cases_idx = covid[\"header\"].index(\"New cases\")\n",
    "\n",
    "# 注意要 start_idx+1 得到从 01-25 这一天的新增\n",
    "# end_idx+1 来包含 7 月 22 的结果\n",
    "new_cases = data[start_idx+1: end_idx+1, new_cases_idx]\n",
    "overall = new_cases.sum()\n",
    "print(\"共新增：\", overall)"
   ]
  },
  {
   "cell_type": "code",
   "execution_count": 24,
   "metadata": {},
   "outputs": [
    {
     "name": "stdout",
     "output_type": "stream",
     "text": [
      "date index: 62 ;差异： 15.0\n",
      "date index: 81 ;差异： 21.0\n",
      "date index: 87 ;差异： 1.0\n",
      "date index: 91 ;差异： 2188.0\n",
      "date index: 93 ;差异： 10034.0\n",
      "date index: 95 ;差异： 1.0\n",
      "date index: 97 ;差异： 105.0\n",
      "date index: 98 ;差异： 2512.0\n",
      "date index: 101 ;差异： 167.0\n",
      "date index: 103 ;差异： 1.0\n",
      "date index: 106 ;差异： 1583.0\n",
      "date index: 107 ;差异： 1480.0\n",
      "date index: 109 ;差异： 9.0\n",
      "date index: 110 ;差异： 57.0\n",
      "date index: 111 ;差异： 20.0\n",
      "date index: 112 ;差异： 165.0\n",
      "date index: 113 ;差异： 1.0\n",
      "date index: 118 ;差异： 209.0\n",
      "date index: 120 ;差异： 104.0\n",
      "date index: 124 ;差异： 372.0\n",
      "date index: 125 ;差异： 220.0\n",
      "date index: 132 ;差异： 766.0\n",
      "date index: 133 ;差异： 1.0\n",
      "date index: 149 ;差异： 148.0\n",
      "date index: 158 ;差异： 719.0\n",
      "date index: 163 ;差异： 1.0\n",
      "date index: 175 ;差异： 5.0\n",
      "date index: 176 ;差异： 3.0\n",
      "date index: 181 ;差异： 110.0\n"
     ]
    }
   ],
   "source": [
    "\"\"\"\n",
    "为什么两种计算结果对应不上呢？\n",
    "\n",
    "可能是因为有人感染了两次或多次，导致新增的数据中重复计算了\n",
    "\"\"\"\n",
    "confirm_idx = covid[\"header\"].index(\"Confirmed\")\n",
    "confirmed = data[:, confirm_idx]\n",
    "new_cases = data[:, new_cases_idx]\n",
    "\n",
    "for i in range(start_idx, end_idx+1):\n",
    "    diff = new_cases[i] - (confirmed[i] - confirmed[i-1]) \n",
    "    if diff != 0:\n",
    "        print(\"date index:\", i, \";差异：\", diff)"
   ]
  },
  {
   "cell_type": "markdown",
   "metadata": {},
   "source": [
    "### 确诊恢复比例确诊恢复比例"
   ]
  },
  {
   "cell_type": "code",
   "execution_count": 25,
   "metadata": {},
   "outputs": [
    {
     "name": "stdout",
     "output_type": "stream",
     "text": [
      "比例 [ 49.5         47.83333333 164.33333333  52.61538462  89.88888889\n",
      "  57.63043478  32.66666667 129.25        21.70512821  34.0483871\n",
      "  26.67977528  21.37931034  18.48387097  14.98         9.1037464\n",
      "   7.28247423   4.82186949   5.15672913   3.8630137    2.90469417\n",
      "   4.36574074  12.62257169   3.85264409   1.60977502   1.49188426\n",
      "   1.18627451   1.02985075   0.24750147   0.27696203   1.05360134\n",
      "   0.45351532   0.70989011   0.32358003   0.32744722   0.3971134\n",
      "   0.4799437    0.40655447   0.6299867    0.82377332   0.68613139\n",
      "   0.99268105   0.78250511   1.06608098   1.93949828   1.62168675\n",
      "   1.69554031   2.16787104   2.62899006   3.31588057   4.35276306\n",
      "   7.48311688   4.68607595   3.2686217    7.14028251   5.75508721\n",
      "   7.88803866  17.05436775  12.10961145   7.57290202   5.37570394\n",
      "  90.48283262   4.31338434   9.32764317   7.53200144   7.39889706\n",
      "   8.15931018   6.29711447   4.1848375    6.17902482   4.96184896\n",
      "   4.89824287   5.54071162   4.02073756   5.35009325   4.44885216\n",
      "   3.36380344   2.954818     3.56012658   4.14890193   3.01657913\n",
      "   5.12912627   2.62312012   2.8403672    2.25081451   3.21409106\n",
      "   3.47119342   3.14688112   2.61710218   3.44233748   2.20151546\n",
      "   2.70861336   3.12523699   1.95354553   3.15615013   2.63065272\n",
      "   2.60114338   2.33463372   1.9370374    1.31030001   2.35992951\n",
      "   2.05346078   2.48713759   2.30896234   2.24505319   2.01215941\n",
      "   2.36012703   2.61683269   1.63460147   2.32903699   1.65519785\n",
      "   2.32358907   1.55201594   2.50228052   2.04267724   1.71400855\n",
      "   1.95524618   1.69094043   1.88196      1.77069692   2.11492837\n",
      "   0.99189964   1.94041761   1.74101876   1.3851705    1.70128226\n",
      "   1.64173134   1.80415224   1.58635001   1.9731583    1.42249497\n",
      "   1.76254397   1.17483862   1.52384903   1.8304877    1.91709761\n",
      "   1.90991472   2.059647     0.67733664   1.52602447   1.71754258\n",
      "   1.62550167   1.63799929   1.59795571   1.90715858   1.50677582\n",
      "   1.45186562   1.20827761   1.73554109   1.91542468   1.36639348\n",
      "   1.88274842   1.51130259   1.59588043   1.48455888   1.92408034\n",
      "   1.79978554   1.67974423   1.82858398   1.68869673   1.48675245\n",
      "   1.88273196   0.73034241   1.85899603   0.99045197   1.53304915\n",
      "   1.35806106   1.45665826   1.34474899   1.70038221   1.67301121\n",
      "   1.72431989   1.72853772   1.37733719   1.56218344   1.44974063\n",
      "   1.66233766   1.51729888   1.57593342   2.44793294   1.30424745\n",
      "   1.34071718   1.59215177   1.66607351   1.22920747   1.16666971\n",
      "   1.51873873   1.30963848]\n",
      "平均比例： 7.049556348053241 ；标准差： 19.094025710450307\n"
     ]
    }
   ],
   "source": [
    "\"\"\"每天新增确诊数和新恢复数的比例？平均比例，标准差各是多少？\"\"\"\n",
    "new_cases_idx = covid[\"header\"].index(\"New cases\")\n",
    "new_recovered_idx = covid[\"header\"].index(\"New recovered\")\n",
    "\n",
    "not_zero_mask = data[:, new_recovered_idx] != 0 # 排除 0\n",
    "ratio = data[not_zero_mask, new_cases_idx] / data[not_zero_mask, new_recovered_idx] #利用了切片\n",
    "\n",
    "# 平均比例, 标准差\n",
    "ratio_mean = ratio.mean()\n",
    "ratio_std = ratio.std()\n",
    "print(\"比例\", ratio)\n",
    "print(\"平均比例：\", ratio_mean, \"；标准差：\", ratio_std)"
   ]
  },
  {
   "cell_type": "markdown",
   "metadata": {},
   "source": [
    "### 可视化数据"
   ]
  },
  {
   "cell_type": "code",
   "execution_count": 26,
   "metadata": {},
   "outputs": [
    {
     "data": {
      "image/png": "[encoded data removed]",
      "text/plain": [
       "<Figure size 432x288 with 1 Axes>"
      ]
     },
     "metadata": {
      "needs_background": "light"
     },
     "output_type": "display_data"
    }
   ],
   "source": [
    "\"\"\"画图展示新增确诊的变化曲线\"\"\"\n",
    "new_cases_idx = covid[\"header\"].index(\"New cases\")\n",
    "draw_line(data[:, new_cases_idx])"
   ]
  },
  {
   "cell_type": "code",
   "execution_count": 27,
   "metadata": {},
   "outputs": [
    {
     "data": {
      "image/png": "[encoded data removed]",
      "text/plain": [
       "<Figure size 432x288 with 1 Axes>"
      ]
     },
     "metadata": {
      "needs_background": "light"
     },
     "output_type": "display_data"
    }
   ],
   "source": [
    "\"\"\"画图展示死亡率的变化曲线\"\"\"\n",
    "death_ratio_idx = covid[\"header\"].index(\"Deaths / 100 Cases\")\n",
    "draw_line(data[:, death_ratio_idx])"
   ]
  }
 ],
 "metadata": {
  "kernelspec": {
   "display_name": "Python 3.8.10 64-bit",
   "language": "python",
   "name": "python3"
  },
  "language_info": {
   "codemirror_mode": {
    "name": "ipython",
    "version": 3
   },
   "file_extension": ".py",
   "mimetype": "text/x-python",
   "name": "python",
   "nbconvert_exporter": "python",
   "pygments_lexer": "ipython3",
   "version": "3.8.10"
  },
  "orig_nbformat": 4,
  "vscode": {
   "interpreter": {
    "hash": "916dbcbb3f70747c44a77c7bcd40155683ae19c65e1c03b4aa3499c5328201f1"
   }
  }
 },
 "nbformat": 4,
 "nbformat_minor": 2
}
